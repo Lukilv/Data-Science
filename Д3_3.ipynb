{
  "nbformat": 4,
  "nbformat_minor": 0,
  "metadata": {
    "colab": {
      "provenance": []
    },
    "kernelspec": {
      "name": "python3",
      "display_name": "Python 3"
    },
    "language_info": {
      "name": "python"
    }
  },
  "cells": [
    {
      "cell_type": "code",
      "source": [
        "import tensorflow as tf\n",
        "from tensorflow.keras.datasets import mnist\n",
        "from tensorflow.keras.models import Sequential\n",
        "from tensorflow.keras.layers import Dense, Flatten\n",
        "from tensorflow.keras.losses import SparseCategoricalCrossentropy\n",
        "from tensorflow.keras.optimizers import Adam"
      ],
      "metadata": {
        "id": "vqQD74diPS_R"
      },
      "execution_count": 1,
      "outputs": []
    },
    {
      "cell_type": "code",
      "execution_count": 2,
      "metadata": {
        "colab": {
          "base_uri": "https://localhost:8080/"
        },
        "id": "yXUX4T-l3lBj",
        "outputId": "80ef0b6c-c2e1-4f1e-b0c3-e79a0e3840d8"
      },
      "outputs": [
        {
          "output_type": "stream",
          "name": "stdout",
          "text": [
            "Downloading data from https://storage.googleapis.com/tensorflow/tf-keras-datasets/mnist.npz\n",
            "11490434/11490434 [==============================] - 1s 0us/step\n",
            "Epoch 1/5\n",
            "1875/1875 [==============================] - 13s 6ms/step - loss: 0.2643 - accuracy: 0.9250 - val_loss: 0.1417 - val_accuracy: 0.9575\n",
            "Epoch 2/5\n",
            "1875/1875 [==============================] - 9s 5ms/step - loss: 0.1162 - accuracy: 0.9668 - val_loss: 0.0939 - val_accuracy: 0.9703\n",
            "Epoch 3/5\n",
            "1875/1875 [==============================] - 8s 4ms/step - loss: 0.0798 - accuracy: 0.9758 - val_loss: 0.0818 - val_accuracy: 0.9749\n",
            "Epoch 4/5\n",
            "1875/1875 [==============================] - 8s 4ms/step - loss: 0.0586 - accuracy: 0.9821 - val_loss: 0.0747 - val_accuracy: 0.9750\n",
            "Epoch 5/5\n",
            "1875/1875 [==============================] - 7s 4ms/step - loss: 0.0447 - accuracy: 0.9861 - val_loss: 0.0786 - val_accuracy: 0.9766\n",
            "313/313 - 1s - loss: 0.0786 - accuracy: 0.9766 - 748ms/epoch - 2ms/step\n",
            "\n",
            "Точность на тестовых данных: 0.9765999913215637\n"
          ]
        }
      ],
      "source": [
        "\n",
        "# Загрузка данных\n",
        "(x_train, y_train), (x_test, y_test) = mnist.load_data()\n",
        "\n",
        "# Нормализация данных\n",
        "x_train, x_test = x_train / 255.0, x_test / 255.0\n",
        "\n",
        "# Построение модели\n",
        "model = Sequential([\n",
        "    Flatten(input_shape=(28, 28)),  # Преобразование двумерного массива в одномерный\n",
        "    Dense(128, activation='relu'),  # Полносвязный слой с 128 нейронами и функцией активации ReLU\n",
        "    Dense(10)                        # Выходной слой с 10 нейронами для классификации цифр от 0 до 9\n",
        "])\n",
        "\n",
        "# Компиляция модели\n",
        "model.compile(optimizer='adam',\n",
        "              loss=SparseCategoricalCrossentropy(from_logits=True),\n",
        "              metrics=['accuracy'])\n",
        "\n",
        "# Обучение модели\n",
        "model.fit(x_train, y_train, epochs=5, validation_data=(x_test, y_test))\n",
        "\n",
        "# Оценка модели на тестовых данных\n",
        "test_loss, test_acc = model.evaluate(x_test, y_test, verbose=2)\n",
        "print('\\nТочность на тестовых данных:', test_acc)"
      ]
    },
    {
      "cell_type": "code",
      "source": [
        "import tensorflow as tf\n",
        "from tensorflow.keras import layers, models, datasets\n",
        "\n",
        "# Загрузка и предобработка данных\n",
        "(train_images, train_labels), (test_images, test_labels) = datasets.mnist.load_data()\n",
        "train_images, test_images = train_images / 255.0, test_images / 255.0\n",
        "\n",
        "# Определение архитектуры модели\n",
        "model = models.Sequential([\n",
        "    layers.Conv2D(32, (3, 3), activation='relu', input_shape=(28, 28, 1)),\n",
        "    layers.MaxPooling2D((2, 2)),\n",
        "    layers.Conv2D(64, (3, 3), activation='relu'),\n",
        "    layers.MaxPooling2D((2, 2)),\n",
        "    layers.Conv2D(64, (3, 3), activation='relu'),\n",
        "    layers.Flatten(),\n",
        "    layers.Dense(64, activation='relu'),\n",
        "    layers.Dense(10, activation='softmax')\n",
        "])\n",
        "\n",
        "# Компиляция модели\n",
        "model.compile(optimizer='adam',\n",
        "              loss='sparse_categorical_crossentropy',\n",
        "              metrics=['accuracy'])\n",
        "\n",
        "# Обучение модели\n",
        "model.fit(train_images[..., tf.newaxis], train_labels, epochs=5, batch_size=32)\n",
        "\n",
        "# Оценка производительности модели на тестовых данных\n",
        "test_loss, test_acc = model.evaluate(test_images[..., tf.newaxis], test_labels)\n",
        "print('Test accuracy:', test_acc)\n"
      ],
      "metadata": {
        "id": "CWVXhpJk3oAR",
        "colab": {
          "base_uri": "https://localhost:8080/"
        },
        "outputId": "3979cba2-56ff-4afe-a952-acbf1eb17497"
      },
      "execution_count": 3,
      "outputs": [
        {
          "output_type": "stream",
          "name": "stdout",
          "text": [
            "Epoch 1/5\n",
            "1875/1875 [==============================] - 53s 28ms/step - loss: 0.1459 - accuracy: 0.9549\n",
            "Epoch 2/5\n",
            "1875/1875 [==============================] - 52s 28ms/step - loss: 0.0459 - accuracy: 0.9856\n",
            "Epoch 3/5\n",
            "1875/1875 [==============================] - 52s 28ms/step - loss: 0.0332 - accuracy: 0.9894\n",
            "Epoch 4/5\n",
            "1875/1875 [==============================] - 51s 27ms/step - loss: 0.0257 - accuracy: 0.9920\n",
            "Epoch 5/5\n",
            "1875/1875 [==============================] - 51s 27ms/step - loss: 0.0192 - accuracy: 0.9940\n",
            "313/313 [==============================] - 4s 11ms/step - loss: 0.0302 - accuracy: 0.9905\n",
            "Test accuracy: 0.9904999732971191\n"
          ]
        }
      ]
    },
    {
      "cell_type": "code",
      "source": [
        "\n"
      ],
      "metadata": {
        "id": "_Ij7XcIeMwxZ"
      },
      "execution_count": null,
      "outputs": []
    }
  ]
}
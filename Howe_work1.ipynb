{
  "nbformat": 4,
  "nbformat_minor": 0,
  "metadata": {
    "colab": {
      "provenance": [],
      "authorship_tag": "ABX9TyPdnS5PcDV8b1SY5qj8AXIK",
      "include_colab_link": true
    },
    "kernelspec": {
      "name": "python3",
      "display_name": "Python 3"
    },
    "language_info": {
      "name": "python"
    }
  },
  "cells": [
    {
      "cell_type": "markdown",
      "metadata": {
        "id": "view-in-github",
        "colab_type": "text"
      },
      "source": [
        "<a href=\"https://colab.research.google.com/github/Lukilv/Data-Science/blob/main/Untitled3.ipynb\" target=\"_parent\"><img src=\"https://colab.research.google.com/assets/colab-badge.svg\" alt=\"Open In Colab\"/></a>"
      ]
    },
    {
      "cell_type": "code",
      "execution_count": null,
      "metadata": {
        "id": "kHChd5pA6nkY"
      },
      "outputs": [],
      "source": [
        "import requests\n",
        "import json\n",
        "import pandas as pd\n",
        "from openpyxl.workbook import Workbook\n",
        "import sqlite3\n"
      ]
    },
    {
      "cell_type": "code",
      "source": [
        "# Для скачивания данных\n",
        "object_dict=dict()\n",
        "index=0\n",
        "objects_list=[]\n",
        "offset_ = 1 # размер шага\n",
        "limit_ = 2000 # количество объектов в одном ответе api\n",
        "\n",
        "while True:\n",
        "  url = f'https://xn--80az8a.xn--d1aqf.xn--p1ai/%D1%81%D0%B5%D1%80%D0%B2%D0%B8%D1%81%D1%8B/api/kn/object?offset={offset_}&limit={limit_}&sortField=devId.devShortCleanNm&sortType=asc&objStatus=0'\n",
        "  res = requests.get(url)\n",
        "  objects_data = res.json()\n",
        "  objects_list.extend(objects_data.get('data').get('list'))\n",
        "  index+=1\n",
        "  print(index)\n",
        "  offset_= offset_+limit_\n",
        "  if len(objects_data.get('data').get('list'))<100:\n",
        "    objects_list.extend(objects_data.get('data').get('list'))\n",
        "    break"
      ],
      "metadata": {
        "id": "vCIxWOCZ6oqJ"
      },
      "execution_count": null,
      "outputs": []
    },
    {
      "cell_type": "code",
      "source": [
        "#Получаем id всех объектов\n",
        "objids = [x.get('objId') for x in objects_list]\n",
        "\n"
      ],
      "metadata": {
        "id": "cnQY_RqC6vdM"
      },
      "execution_count": null,
      "outputs": []
    },
    {
      "cell_type": "code",
      "source": [
        "#Делаем запросы по всем id\n",
        "all_objcts=[]\n",
        "for objid in objids:\n",
        "  url1 = f'https://xn--80az8a.xn--d1aqf.xn--p1ai/%D1%81%D0%B5%D1%80%D0%B2%D0%B8%D1%81%D1%8B/api/object/13391'\n",
        "  res = requests.get(url1)\n",
        "  res.json()\n",
        "  all_objcts.extend(res.json())"
      ],
      "metadata": {
        "id": "BAyE5D8A6x1s"
      },
      "execution_count": null,
      "outputs": []
    },
    {
      "cell_type": "code",
      "source": [
        "#Открытие соединения с бд\n",
        "conn = sqlite3.connect('test_database')"
      ],
      "metadata": {
        "id": "-xqXFq_b6ze5"
      },
      "execution_count": null,
      "outputs": []
    },
    {
      "cell_type": "code",
      "source": [
        "#Сохраняем dataframe в файлы и в бд\n",
        "df = pd.DataFrame(all_objcts)\n",
        "\n",
        "df.to_csv('objects.csv', encoding='UTF-8', index=False)\n",
        "df.to_excel('objects1.xlsx', index=False)\n",
        "df.to_pickle('objects2.pic')\n",
        "df.to_sql('products', conn, if_exists='replace', index = False)\n"
      ],
      "metadata": {
        "id": "N1lBzW6k609d"
      },
      "execution_count": null,
      "outputs": []
    },
    {
      "cell_type": "code",
      "source": [
        "conn.commit()\n",
        "conn.close()"
      ],
      "metadata": {
        "id": "_xCmtCPN625B"
      },
      "execution_count": null,
      "outputs": []
    }
  ]
}

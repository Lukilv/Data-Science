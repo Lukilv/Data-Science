{
  "nbformat": 4,
  "nbformat_minor": 0,
  "metadata": {
    "colab": {
      "provenance": [],
      "authorship_tag": "ABX9TyOnV3WH3VCVxbrthLf/n15Y",
      "include_colab_link": true
    },
    "kernelspec": {
      "name": "python3",
      "display_name": "Python 3"
    },
    "language_info": {
      "name": "python"
    }
  },
  "cells": [
    {
      "cell_type": "markdown",
      "metadata": {
        "id": "view-in-github",
        "colab_type": "text"
      },
      "source": [
        "<a href=\"https://colab.research.google.com/github/Lukilv/Data-Science/blob/main/Home_work1.ipynb\" target=\"_parent\"><img src=\"https://colab.research.google.com/assets/colab-badge.svg\" alt=\"Open In Colab\"/></a>"
      ]
    },
    {
      "cell_type": "code",
      "execution_count": null,
      "metadata": {
        "id": "GNO8sAx9UnjL"
      },
      "outputs": [],
      "source": [
        "import requests\n",
        "import json\n",
        "import pandas as pd\n",
        "from openpyxl.workbook import Workbook\n",
        "import sqlite3\n",
        "conn = sqlite3.connect('test_database')\n",
        "\n",
        "def main():\n",
        "    offset = 0\n",
        "    limit = 100\n",
        "    items = [] # сюда складывается весь результат\n",
        "\n",
        "    while True:\n",
        "        url = f'https://xn--80az8a.xn--d1aqf.xn--p1ai/%D1%81%D0%B5%D1%80%D0%B2%D0%B8%D1%81%D1%8B/api/kn/object?'\n",
        "        params = (\n",
        "            ('offset', offset),\n",
        "            ('limit', limit),\n",
        "            ('sortField', 'devShortCleanNm'),\n",
        "            ('sortType', 'asc'),\n",
        "            ('objStatus', 0)\n",
        "        ) # параметры endpointа\n",
        "\n",
        "        res = requests.get(url, params=params)# Получаем данные с сервера\n",
        "        response = res.json()# превращаем их в JSON\n",
        "        objects = response.get('data').get('list')# выделяем только объекты строительства\n",
        "        items.append(objects)# добавляем всё в одну переменную\n",
        "        offset += 100 # для каждой итерации увеличиваем шаг\n",
        "        df=pd.DataFrame(items)\n",
        "        df.to_csv('objects.csv', encoding='UTF-8', index=False)\n",
        "        df.to_excel('objects1.xlsx', index=False)\n",
        "        df.to_pickle('objects2.pic')\n",
        "        df.to_sql('products', conn, if_exists='replace', index = False) #БД не разворачивал, сделал как в примере\n",
        "        if len(objects) == 0: # если в текущей итерации объектов нет - завершаем цикл\n",
        "          break\n",
        "\n",
        "conn.commit()\n",
        "conn.close()\n",
        "\n",
        "if __name__ == '__main__':\n",
        "    main()"
      ]
    }
  ]
}